{
 "cells": [
  {
   "cell_type": "code",
   "execution_count": null,
   "metadata": {},
   "outputs": [],
   "source": [
    "#Redes Neuronales\n",
    "## Son un conjunto de perceptrones conectados.\n",
    "## Cada perceptrón tiene:\n",
    "    Entradas\n",
    "    Función de activación\n",
    "    "
   ]
  },
  {
   "cell_type": "markdown",
   "metadata": {},
   "source": [
    "# Funciones de activación\n",
    "## Una función de activación de una neurona artificial sirve para definir el valor de salida en función de los datos de entrada.\n",
    "## Existen diferentes tipos de funciones de activación:\n",
    "    - Sigmoide\n",
    "    - Tanh : Tangente hiperbólica\n",
    "    - ReLU : Unidad lineal rectificada"
   ]
  },
  {
   "cell_type": "markdown",
   "metadata": {},
   "source": [
    "# Detalles: \n",
    "    - Sigmoide : transforma los valores introducidos a una escala de valores entre 0 y 1. '\\n'\n",
    "    - Tanh : transforma los valores al rango -1 y 1.\n",
    "    - ReLU: Transforma los valores eintroducidos al máximo entre 0 y un valor positivo de entrada.\n",
    "    Es decir, si el valor de entrada es negativo, la salida será cero."
   ]
  },
  {
   "cell_type": "markdown",
   "metadata": {},
   "source": [
    "# Funciones de Costo\n",
    "## Sirven para medir el valor de las estimaciones de las neuronas y el valor real.\n",
    "    Función de costo cuadrático: Puede relentizar el aprendizaje debido a que los errores están elevados al cuadrado.\n",
    "    Función de entropía cruzada: cuanto mayor es la diferencia entre el valor real y la predicción, mayor será la rapidez del aprendizaje. "
   ]
  },
  {
   "cell_type": "markdown",
   "metadata": {},
   "source": [
    "# Gradiente descendente\n",
    "Es un algoritmo de optimización para encontrar el valor mínimo de una función de costo, es decir, para encontrar el valor de los pesos exactos W en nuestra red neuronal donde el costo sea mínimo."
   ]
  },
  {
   "cell_type": "markdown",
   "metadata": {},
   "source": [
    "## Para poner en juego estos conceptos se puede realizar un ejemplo en http://playground.tensorflow.org"
   ]
  },
  {
   "cell_type": "code",
   "execution_count": null,
   "metadata": {},
   "outputs": [],
   "source": []
  }
 ],
 "metadata": {
  "kernelspec": {
   "display_name": "Python 3",
   "language": "python",
   "name": "python3"
  },
  "language_info": {
   "codemirror_mode": {
    "name": "ipython",
    "version": 3
   },
   "file_extension": ".py",
   "mimetype": "text/x-python",
   "name": "python",
   "nbconvert_exporter": "python",
   "pygments_lexer": "ipython3",
   "version": "3.7.5"
  }
 },
 "nbformat": 4,
 "nbformat_minor": 2
}
