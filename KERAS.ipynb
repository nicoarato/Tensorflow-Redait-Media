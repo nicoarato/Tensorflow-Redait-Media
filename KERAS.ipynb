{
 "cells": [
  {
   "cell_type": "markdown",
   "metadata": {},
   "source": [
    "# Keras - \n",
    "## Es una biblioteca de redes neuronales de código abierto.\n",
    "## Está especialmente diseña para experimentar de forma rápida con redes de aprendizaje profundo : Deep Learning\n",
    "## Ejemplo de dataset wines"
   ]
  },
  {
   "cell_type": "code",
   "execution_count": 3,
   "metadata": {},
   "outputs": [],
   "source": [
    "import tensorflow as tf\n",
    "from sklearn.datasets import load_wine"
   ]
  },
  {
   "cell_type": "code",
   "execution_count": 4,
   "metadata": {},
   "outputs": [
    {
     "name": "stdout",
     "output_type": "stream",
     "text": [
      ".. _wine_dataset:\n",
      "\n",
      "Wine recognition dataset\n",
      "------------------------\n",
      "\n",
      "**Data Set Characteristics:**\n",
      "\n",
      "    :Number of Instances: 178 (50 in each of three classes)\n",
      "    :Number of Attributes: 13 numeric, predictive attributes and the class\n",
      "    :Attribute Information:\n",
      " \t\t- Alcohol\n",
      " \t\t- Malic acid\n",
      " \t\t- Ash\n",
      "\t\t- Alcalinity of ash  \n",
      " \t\t- Magnesium\n",
      "\t\t- Total phenols\n",
      " \t\t- Flavanoids\n",
      " \t\t- Nonflavanoid phenols\n",
      " \t\t- Proanthocyanins\n",
      "\t\t- Color intensity\n",
      " \t\t- Hue\n",
      " \t\t- OD280/OD315 of diluted wines\n",
      " \t\t- Proline\n",
      "\n",
      "    - class:\n",
      "            - class_0\n",
      "            - class_1\n",
      "            - class_2\n",
      "\t\t\n",
      "    :Summary Statistics:\n",
      "    \n",
      "    ============================= ==== ===== ======= =====\n",
      "                                   Min   Max   Mean     SD\n",
      "    ============================= ==== ===== ======= =====\n",
      "    Alcohol:                      11.0  14.8    13.0   0.8\n",
      "    Malic Acid:                   0.74  5.80    2.34  1.12\n",
      "    Ash:                          1.36  3.23    2.36  0.27\n",
      "    Alcalinity of Ash:            10.6  30.0    19.5   3.3\n",
      "    Magnesium:                    70.0 162.0    99.7  14.3\n",
      "    Total Phenols:                0.98  3.88    2.29  0.63\n",
      "    Flavanoids:                   0.34  5.08    2.03  1.00\n",
      "    Nonflavanoid Phenols:         0.13  0.66    0.36  0.12\n",
      "    Proanthocyanins:              0.41  3.58    1.59  0.57\n",
      "    Colour Intensity:              1.3  13.0     5.1   2.3\n",
      "    Hue:                          0.48  1.71    0.96  0.23\n",
      "    OD280/OD315 of diluted wines: 1.27  4.00    2.61  0.71\n",
      "    Proline:                       278  1680     746   315\n",
      "    ============================= ==== ===== ======= =====\n",
      "\n",
      "    :Missing Attribute Values: None\n",
      "    :Class Distribution: class_0 (59), class_1 (71), class_2 (48)\n",
      "    :Creator: R.A. Fisher\n",
      "    :Donor: Michael Marshall (MARSHALL%PLU@io.arc.nasa.gov)\n",
      "    :Date: July, 1988\n",
      "\n",
      "This is a copy of UCI ML Wine recognition datasets.\n",
      "https://archive.ics.uci.edu/ml/machine-learning-databases/wine/wine.data\n",
      "\n",
      "The data is the results of a chemical analysis of wines grown in the same\n",
      "region in Italy by three different cultivators. There are thirteen different\n",
      "measurements taken for different constituents found in the three types of\n",
      "wine.\n",
      "\n",
      "Original Owners: \n",
      "\n",
      "Forina, M. et al, PARVUS - \n",
      "An Extendible Package for Data Exploration, Classification and Correlation. \n",
      "Institute of Pharmaceutical and Food Analysis and Technologies,\n",
      "Via Brigata Salerno, 16147 Genoa, Italy.\n",
      "\n",
      "Citation:\n",
      "\n",
      "Lichman, M. (2013). UCI Machine Learning Repository\n",
      "[http://archive.ics.uci.edu/ml]. Irvine, CA: University of California,\n",
      "School of Information and Computer Science. \n",
      "\n",
      ".. topic:: References\n",
      "\n",
      "  (1) S. Aeberhard, D. Coomans and O. de Vel, \n",
      "  Comparison of Classifiers in High Dimensional Settings, \n",
      "  Tech. Rep. no. 92-02, (1992), Dept. of Computer Science and Dept. of  \n",
      "  Mathematics and Statistics, James Cook University of North Queensland. \n",
      "  (Also submitted to Technometrics). \n",
      "\n",
      "  The data was used with many others for comparing various \n",
      "  classifiers. The classes are separable, though only RDA \n",
      "  has achieved 100% correct classification. \n",
      "  (RDA : 100%, QDA 99.4%, LDA 98.9%, 1NN 96.1% (z-transformed data)) \n",
      "  (All results using the leave-one-out technique) \n",
      "\n",
      "  (2) S. Aeberhard, D. Coomans and O. de Vel, \n",
      "  \"THE CLASSIFICATION PERFORMANCE OF RDA\" \n",
      "  Tech. Rep. no. 92-01, (1992), Dept. of Computer Science and Dept. of \n",
      "  Mathematics and Statistics, James Cook University of North Queensland. \n",
      "  (Also submitted to Journal of Chemometrics).\n",
      "\n"
     ]
    }
   ],
   "source": [
    "vino = load_wine()\n",
    "print(vino['DESCR'])"
   ]
  },
  {
   "cell_type": "code",
   "execution_count": 5,
   "metadata": {},
   "outputs": [],
   "source": [
    "caracteristicas = vino['data']\n",
    "objetivo = vino['target']"
   ]
  },
  {
   "cell_type": "code",
   "execution_count": 6,
   "metadata": {},
   "outputs": [],
   "source": [
    "from sklearn.model_selection import train_test_split"
   ]
  },
  {
   "cell_type": "code",
   "execution_count": 7,
   "metadata": {},
   "outputs": [],
   "source": [
    "x_train, x_test, y_train, y_test = train_test_split(caracteristicas,objetivo,test_size=0.3)"
   ]
  },
  {
   "cell_type": "code",
   "execution_count": 8,
   "metadata": {},
   "outputs": [],
   "source": [
    "from sklearn.preprocessing import MinMaxScaler"
   ]
  },
  {
   "cell_type": "code",
   "execution_count": 9,
   "metadata": {},
   "outputs": [],
   "source": [
    "normalizador = MinMaxScaler()"
   ]
  },
  {
   "cell_type": "code",
   "execution_count": 10,
   "metadata": {},
   "outputs": [],
   "source": [
    "x_train_normalizado = normalizador.fit_transform(x_train)\n",
    "x_test_normalizado = normalizador.transform(x_test)"
   ]
  },
  {
   "cell_type": "code",
   "execution_count": 11,
   "metadata": {},
   "outputs": [],
   "source": [
    "from tensorflow.contrib.keras import models, layers, losses, optimizers, metrics, activations"
   ]
  },
  {
   "cell_type": "code",
   "execution_count": 12,
   "metadata": {},
   "outputs": [],
   "source": [
    "modelo = models.Sequential()"
   ]
  },
  {
   "cell_type": "code",
   "execution_count": 13,
   "metadata": {},
   "outputs": [
    {
     "name": "stdout",
     "output_type": "stream",
     "text": [
      "WARNING:tensorflow:From C:\\Users\\sysadmin\\AppData\\Local\\conda\\conda\\envs\\tensorflow_env\\lib\\site-packages\\tensorflow\\python\\ops\\resource_variable_ops.py:435: colocate_with (from tensorflow.python.framework.ops) is deprecated and will be removed in a future version.\n",
      "Instructions for updating:\n",
      "Colocations handled automatically by placer.\n"
     ]
    }
   ],
   "source": [
    "modelo.add(layers.Dense(units=13, input_dim=13,activation='relu'))"
   ]
  },
  {
   "cell_type": "code",
   "execution_count": 14,
   "metadata": {},
   "outputs": [],
   "source": [
    "modelo.add(layers.Dense(units=13,activation='relu'))\n",
    "modelo.add(layers.Dense(units=13,activation='relu'))"
   ]
  },
  {
   "cell_type": "code",
   "execution_count": 15,
   "metadata": {},
   "outputs": [],
   "source": [
    "modelo.add(layers.Dense(units=3,activation='softmax'))"
   ]
  },
  {
   "cell_type": "code",
   "execution_count": 16,
   "metadata": {},
   "outputs": [],
   "source": [
    "modelo.compile(optimizer='adam', loss='sparse_categorical_crossentropy',metrics=['accuracy'])"
   ]
  },
  {
   "cell_type": "code",
   "execution_count": 17,
   "metadata": {},
   "outputs": [
    {
     "name": "stdout",
     "output_type": "stream",
     "text": [
      "Epoch 1/60\n",
      "124/124 [==============================] - 1s 7ms/sample - loss: 1.0733 - acc: 0.3468\n",
      "Epoch 2/60\n",
      "124/124 [==============================] - 0s 81us/sample - loss: 1.0477 - acc: 0.3468\n",
      "Epoch 3/60\n",
      "124/124 [==============================] - 0s 105us/sample - loss: 1.0279 - acc: 0.3468\n",
      "Epoch 4/60\n",
      "124/124 [==============================] - 0s 145us/sample - loss: 1.0110 - acc: 0.3468\n",
      "Epoch 5/60\n",
      "124/124 [==============================] - 0s 129us/sample - loss: 0.9967 - acc: 0.3548\n",
      "Epoch 6/60\n",
      "124/124 [==============================] - 0s 121us/sample - loss: 0.9843 - acc: 0.3548\n",
      "Epoch 7/60\n",
      "124/124 [==============================] - 0s 105us/sample - loss: 0.9715 - acc: 0.3548\n",
      "Epoch 8/60\n",
      "124/124 [==============================] - 0s 113us/sample - loss: 0.9580 - acc: 0.3790\n",
      "Epoch 9/60\n",
      "124/124 [==============================] - 0s 121us/sample - loss: 0.9437 - acc: 0.4194\n",
      "Epoch 10/60\n",
      "124/124 [==============================] - 0s 121us/sample - loss: 0.9284 - acc: 0.4919\n",
      "Epoch 11/60\n",
      "124/124 [==============================] - 0s 113us/sample - loss: 0.9133 - acc: 0.5081\n",
      "Epoch 12/60\n",
      "124/124 [==============================] - 0s 113us/sample - loss: 0.8986 - acc: 0.5565\n",
      "Epoch 13/60\n",
      "124/124 [==============================] - 0s 105us/sample - loss: 0.8843 - acc: 0.5645\n",
      "Epoch 14/60\n",
      "124/124 [==============================] - 0s 105us/sample - loss: 0.8695 - acc: 0.5726\n",
      "Epoch 15/60\n",
      "124/124 [==============================] - 0s 81us/sample - loss: 0.8554 - acc: 0.5806\n",
      "Epoch 16/60\n",
      "124/124 [==============================] - 0s 73us/sample - loss: 0.8417 - acc: 0.5806\n",
      "Epoch 17/60\n",
      "124/124 [==============================] - 0s 97us/sample - loss: 0.8280 - acc: 0.5726\n",
      "Epoch 18/60\n",
      "124/124 [==============================] - 0s 113us/sample - loss: 0.8139 - acc: 0.5806\n",
      "Epoch 19/60\n",
      "124/124 [==============================] - 0s 105us/sample - loss: 0.7996 - acc: 0.6129\n",
      "Epoch 20/60\n",
      "124/124 [==============================] - 0s 97us/sample - loss: 0.7849 - acc: 0.6371\n",
      "Epoch 21/60\n",
      "124/124 [==============================] - 0s 97us/sample - loss: 0.7701 - acc: 0.6532\n",
      "Epoch 22/60\n",
      "124/124 [==============================] - 0s 89us/sample - loss: 0.7546 - acc: 0.6855\n",
      "Epoch 23/60\n",
      "124/124 [==============================] - 0s 105us/sample - loss: 0.7389 - acc: 0.6935\n",
      "Epoch 24/60\n",
      "124/124 [==============================] - 0s 89us/sample - loss: 0.7228 - acc: 0.7016\n",
      "Epoch 25/60\n",
      "124/124 [==============================] - 0s 129us/sample - loss: 0.7067 - acc: 0.7258\n",
      "Epoch 26/60\n",
      "124/124 [==============================] - 0s 137us/sample - loss: 0.6916 - acc: 0.7500\n",
      "Epoch 27/60\n",
      "124/124 [==============================] - 0s 89us/sample - loss: 0.6745 - acc: 0.7823\n",
      "Epoch 28/60\n",
      "124/124 [==============================] - 0s 97us/sample - loss: 0.6579 - acc: 0.8145\n",
      "Epoch 29/60\n",
      "124/124 [==============================] - 0s 81us/sample - loss: 0.6408 - acc: 0.8226\n",
      "Epoch 30/60\n",
      "124/124 [==============================] - 0s 153us/sample - loss: 0.6232 - acc: 0.8226\n",
      "Epoch 31/60\n",
      "124/124 [==============================] - 0s 81us/sample - loss: 0.6056 - acc: 0.8387\n",
      "Epoch 32/60\n",
      "124/124 [==============================] - 0s 81us/sample - loss: 0.5872 - acc: 0.8629\n",
      "Epoch 33/60\n",
      "124/124 [==============================] - 0s 89us/sample - loss: 0.5696 - acc: 0.8710\n",
      "Epoch 34/60\n",
      "124/124 [==============================] - 0s 113us/sample - loss: 0.5522 - acc: 0.8710\n",
      "Epoch 35/60\n",
      "124/124 [==============================] - 0s 81us/sample - loss: 0.5333 - acc: 0.8952\n",
      "Epoch 36/60\n",
      "124/124 [==============================] - 0s 121us/sample - loss: 0.5141 - acc: 0.8952\n",
      "Epoch 37/60\n",
      "124/124 [==============================] - 0s 121us/sample - loss: 0.4957 - acc: 0.9032\n",
      "Epoch 38/60\n",
      "124/124 [==============================] - 0s 97us/sample - loss: 0.4765 - acc: 0.9032\n",
      "Epoch 39/60\n",
      "124/124 [==============================] - 0s 105us/sample - loss: 0.4574 - acc: 0.9113\n",
      "Epoch 40/60\n",
      "124/124 [==============================] - 0s 105us/sample - loss: 0.4392 - acc: 0.9194\n",
      "Epoch 41/60\n",
      "124/124 [==============================] - 0s 129us/sample - loss: 0.4213 - acc: 0.9274\n",
      "Epoch 42/60\n",
      "124/124 [==============================] - 0s 105us/sample - loss: 0.4030 - acc: 0.9355\n",
      "Epoch 43/60\n",
      "124/124 [==============================] - 0s 81us/sample - loss: 0.3852 - acc: 0.9355\n",
      "Epoch 44/60\n",
      "124/124 [==============================] - 0s 121us/sample - loss: 0.3682 - acc: 0.9274\n",
      "Epoch 45/60\n",
      "124/124 [==============================] - 0s 105us/sample - loss: 0.3511 - acc: 0.9274\n",
      "Epoch 46/60\n",
      "124/124 [==============================] - 0s 89us/sample - loss: 0.3346 - acc: 0.9274\n",
      "Epoch 47/60\n",
      "124/124 [==============================] - 0s 121us/sample - loss: 0.3189 - acc: 0.9274\n",
      "Epoch 48/60\n",
      "124/124 [==============================] - 0s 121us/sample - loss: 0.3034 - acc: 0.9355\n",
      "Epoch 49/60\n",
      "124/124 [==============================] - 0s 97us/sample - loss: 0.2905 - acc: 0.9516\n",
      "Epoch 50/60\n",
      "124/124 [==============================] - 0s 89us/sample - loss: 0.2752 - acc: 0.9516\n",
      "Epoch 51/60\n",
      "124/124 [==============================] - 0s 129us/sample - loss: 0.2621 - acc: 0.9597\n",
      "Epoch 52/60\n",
      "124/124 [==============================] - 0s 89us/sample - loss: 0.2488 - acc: 0.9597\n",
      "Epoch 53/60\n",
      "124/124 [==============================] - 0s 121us/sample - loss: 0.2379 - acc: 0.9597\n",
      "Epoch 54/60\n",
      "124/124 [==============================] - 0s 81us/sample - loss: 0.2255 - acc: 0.9597\n",
      "Epoch 55/60\n",
      "124/124 [==============================] - 0s 105us/sample - loss: 0.2168 - acc: 0.9597\n",
      "Epoch 56/60\n",
      "124/124 [==============================] - 0s 89us/sample - loss: 0.2050 - acc: 0.9597\n",
      "Epoch 57/60\n",
      "124/124 [==============================] - 0s 105us/sample - loss: 0.1953 - acc: 0.9597\n",
      "Epoch 58/60\n",
      "124/124 [==============================] - 0s 113us/sample - loss: 0.1867 - acc: 0.9597\n",
      "Epoch 59/60\n",
      "124/124 [==============================] - 0s 89us/sample - loss: 0.1782 - acc: 0.9597\n",
      "Epoch 60/60\n",
      "124/124 [==============================] - 0s 121us/sample - loss: 0.1702 - acc: 0.9597\n"
     ]
    },
    {
     "data": {
      "text/plain": [
       "<tensorflow.python.keras.callbacks.History at 0xa6a0fda7b8>"
      ]
     },
     "execution_count": 17,
     "metadata": {},
     "output_type": "execute_result"
    }
   ],
   "source": [
    "modelo.fit(x_train_normalizado,y_train, epochs=60)"
   ]
  },
  {
   "cell_type": "code",
   "execution_count": 18,
   "metadata": {},
   "outputs": [],
   "source": [
    "predicciones = modelo.predict_classes(x_test_normalizado)"
   ]
  },
  {
   "cell_type": "code",
   "execution_count": 19,
   "metadata": {},
   "outputs": [
    {
     "name": "stdout",
     "output_type": "stream",
     "text": [
      "              precision    recall  f1-score   support\n",
      "\n",
      "           0       1.00      0.94      0.97        16\n",
      "           1       0.96      0.92      0.94        24\n",
      "           2       0.88      1.00      0.93        14\n",
      "\n",
      "   micro avg       0.94      0.94      0.94        54\n",
      "   macro avg       0.94      0.95      0.95        54\n",
      "weighted avg       0.95      0.94      0.94        54\n",
      "\n"
     ]
    }
   ],
   "source": [
    "from sklearn.metrics import classification_report\n",
    "print(classification_report(y_test,predicciones))"
   ]
  },
  {
   "cell_type": "code",
   "execution_count": null,
   "metadata": {},
   "outputs": [],
   "source": []
  }
 ],
 "metadata": {
  "kernelspec": {
   "display_name": "Python 3",
   "language": "python",
   "name": "python3"
  },
  "language_info": {
   "codemirror_mode": {
    "name": "ipython",
    "version": 3
   },
   "file_extension": ".py",
   "mimetype": "text/x-python",
   "name": "python",
   "nbconvert_exporter": "python",
   "pygments_lexer": "ipython3",
   "version": "3.7.3"
  }
 },
 "nbformat": 4,
 "nbformat_minor": 2
}
